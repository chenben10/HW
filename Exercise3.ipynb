{
  "nbformat": 4,
  "nbformat_minor": 0,
  "metadata": {
    "colab": {
      "name": "Exercise3.ipynb",
      "version": "0.3.2",
      "provenance": [],
      "collapsed_sections": [],
      "include_colab_link": true
    },
    "kernelspec": {
      "name": "python3",
      "display_name": "Python 3"
    }
  },
  "cells": [
    {
      "cell_type": "markdown",
      "metadata": {
        "id": "view-in-github",
        "colab_type": "text"
      },
      "source": [
        "<a href=\"https://colab.research.google.com/github/chenben10/HW/blob/machine-learning-HW/Exercise3.ipynb\" target=\"_parent\"><img src=\"https://colab.research.google.com/assets/colab-badge.svg\" alt=\"Open In Colab\"/></a>"
      ]
    },
    {
      "metadata": {
        "id": "lvem_tTD3f4u",
        "colab_type": "code",
        "outputId": "7d15e603-796a-4d29-f82a-be4f6c146a5b",
        "colab": {
          "base_uri": "https://localhost:8080/",
          "height": 131
        }
      },
      "cell_type": "code",
      "source": [
        "x=int(input('請輸入x座標'))  #輸入x座標\n",
        "y=int(input('請輸入y座標'))  #輸入y座標\n",
        "z=int(input('請輸入z座標'))  #輸入z座標\n",
        "po=[x,y,z]  #將xyz設為list\n",
        "print('點座標',tuple(po))\n",
        "\n",
        "Q1=(1,1,1)   #輸入8個卦限的正負號，用tuple表示\n",
        "Q2=(1,-1,1)\n",
        "Q3=(-1,-1,1)\n",
        "Q4=(-1,1,1)\n",
        "Q5=(1,1,-1)\n",
        "Q6=(1,-1,-1)\n",
        "Q7=(-1,-1,-1)\n",
        "Q8=(-1,1,-1)\n",
        "\n",
        "Quadrant=[Q1,Q2,Q3,Q4,Q5,Q6,Q7,Q8] #將卦限放入一個叫Quadrant的list內\n",
        "i=0\n",
        "\n",
        "for i in range(0,8,1): # 迴圈跑8次\n",
        "  cau=list(Quadrant[i]) # 叫出Quadrant的tuple，並把它list\n",
        "  x1=cau[0]*po[0] # 交出卦限的代表list的與點座標相乘\n",
        "  y1=cau[1]*po[1]\n",
        "  z1=cau[2]*po[2]\n",
        "  whlie x1 >= 0: \n",
        "    whlie y1 >= 0:\n",
        "        while z1 >= 0:  #當x1,y1,z1皆大於零時，印出該座標\n",
        "        i+=1\n",
        "        print('該座標為第',i ,'卦限')"
      ],
      "execution_count": 46,
      "outputs": [
        {
          "output_type": "error",
          "ename": "SyntaxError",
          "evalue": "ignored",
          "traceback": [
            "\u001b[0;36m  File \u001b[0;32m\"<ipython-input-46-29f2f5013777>\"\u001b[0;36m, line \u001b[0;32m24\u001b[0m\n\u001b[0;31m    whlie x1 >= 0:\u001b[0m\n\u001b[0m           ^\u001b[0m\n\u001b[0;31mSyntaxError\u001b[0m\u001b[0;31m:\u001b[0m invalid syntax\n"
          ]
        }
      ]
    }
  ]
}