{
  "nbformat": 4,
  "nbformat_minor": 0,
  "metadata": {
    "colab": {
      "name": "Exercise3.ipynb",
      "version": "0.3.2",
      "provenance": [],
      "include_colab_link": true
    },
    "kernelspec": {
      "name": "python3",
      "display_name": "Python 3"
    }
  },
  "cells": [
    {
      "cell_type": "markdown",
      "metadata": {
        "id": "view-in-github",
        "colab_type": "text"
      },
      "source": [
        "<a href=\"https://colab.research.google.com/github/chenben10/HW/blob/machine-learning-HW/Exercise3.ipynb\" target=\"_parent\"><img src=\"https://colab.research.google.com/assets/colab-badge.svg\" alt=\"Open In Colab\"/></a>"
      ]
    },
    {
      "metadata": {
        "id": "lvem_tTD3f4u",
        "colab_type": "code",
        "outputId": "8dfa21f7-9b80-4efc-9ae7-0b78112e910b",
        "colab": {
          "base_uri": "https://localhost:8080/",
          "height": 85
        }
      },
      "cell_type": "code",
      "source": [
        "x=int(input('請輸入x座標'))\n",
        "y=int(input('請輸入y座標'))\n",
        "z=int(input('請輸入z座標'))\n",
        "position=[x,y,z]\n",
        "print('點座標',position)"
      ],
      "execution_count": 0,
      "outputs": [
        {
          "output_type": "stream",
          "text": [
            "請輸入x座標1\n",
            "請輸入y座標2\n",
            "請輸入z座標3\n",
            "點座標 [1, 2, 3]\n"
          ],
          "name": "stdout"
        }
      ]
    }
  ]
}