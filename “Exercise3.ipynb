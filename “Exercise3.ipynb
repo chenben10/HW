{
  "nbformat": 4,
  "nbformat_minor": 0,
  "metadata": {
    "colab": {
      "name": "“Exercise3.ipynb",
      "version": "0.3.2",
      "provenance": [],
      "collapsed_sections": [],
      "include_colab_link": true
    },
    "kernelspec": {
      "name": "python3",
      "display_name": "Python 3"
    }
  },
  "cells": [
    {
      "cell_type": "markdown",
      "metadata": {
        "id": "view-in-github",
        "colab_type": "text"
      },
      "source": [
        "<a href=\"https://colab.research.google.com/github/chenben10/HW/blob/machine-learning-HW/%E2%80%9CExercise3.ipynb\" target=\"_parent\"><img src=\"https://colab.research.google.com/assets/colab-badge.svg\" alt=\"Open In Colab\"/></a>"
      ]
    },
    {
      "metadata": {
        "id": "lvem_tTD3f4u",
        "colab_type": "code",
        "outputId": "cbdb3368-b766-4314-a3ec-3444bc3e2643",
        "colab": {
          "base_uri": "https://localhost:8080/",
          "height": 102
        }
      },
      "cell_type": "code",
      "source": [
        "x=int(input('請輸入x座標'))  #輸入x座標\n",
        "y=int(input('請輸入y座標'))  #輸入y座標\n",
        "z=int(input('請輸入z座標'))  #輸入z座標\n",
        "po=[x,y,z]  #將xyz設為list\n",
        "print('點座標',tuple(po))\n",
        "\n",
        "Q1=(1,1,1)   #輸入8個卦限的正負號，用tuple表示\n",
        "Q2=(1,-1,1)\n",
        "Q3=(-1,-1,1)\n",
        "Q4=(-1,1,1)\n",
        "Q5=(1,1,-1)\n",
        "Q6=(1,-1,-1)\n",
        "Q7=(-1,-1,-1)\n",
        "Q8=(-1,1,-1)\n",
        "\n",
        "Quadrant=[Q1,Q2,Q3,Q4,Q5,Q6,Q7,Q8] #將卦限放入一個叫Quadrant的list內\n",
        "i=0\n",
        "\n",
        "for i in range(0,8,1): # 迴圈跑8次\n",
        "    cau=list(Quadrant[i]) # 叫出Quadrant的tuple，並把它list\n",
        "    x1=cau[0]*po[0] # 交出卦限的代表list的與點座標相乘\n",
        "    y1=cau[1]*po[1]\n",
        "    z1=cau[2]*po[2]\n",
        "    while x1 >= 0:\n",
        "        while y1 >= 0:\n",
        "            while z1 >= 0:  #當x1,y1,z1皆大於零時，印出該座標\n",
        "                i=i+1\n",
        "                print('該座標為第',i ,'卦限')\n",
        "                break\n",
        "            break\n",
        "        break"
      ],
      "execution_count": 2,
      "outputs": [
        {
          "output_type": "stream",
          "text": [
            "請輸入x座標-3\n",
            "請輸入y座標1\n",
            "請輸入z座標3\n",
            "點座標 (-3, 1, 3)\n",
            "該座標為第 4 卦限\n"
          ],
          "name": "stdout"
        }
      ]
    }
  ]
}