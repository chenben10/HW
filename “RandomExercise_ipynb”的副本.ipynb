{
  "nbformat": 4,
  "nbformat_minor": 0,
  "metadata": {
    "colab": {
      "name": "“RandomExercise.ipynb”的副本",
      "version": "0.3.2",
      "provenance": [],
      "collapsed_sections": [],
      "include_colab_link": true
    },
    "kernelspec": {
      "name": "python3",
      "display_name": "Python 3"
    }
  },
  "cells": [
    {
      "cell_type": "markdown",
      "metadata": {
        "id": "view-in-github",
        "colab_type": "text"
      },
      "source": [
        "<a href=\"https://colab.research.google.com/github/chenben10/HW/blob/machine-learning-HW/%E2%80%9CRandomExercise_ipynb%E2%80%9D%E7%9A%84%E5%89%AF%E6%9C%AC.ipynb\" target=\"_parent\"><img src=\"https://colab.research.google.com/assets/colab-badge.svg\" alt=\"Open In Colab\"/></a>"
      ]
    },
    {
      "metadata": {
        "id": "qsgKorVkNVWh",
        "colab_type": "code",
        "outputId": "554c7c99-b46f-481b-cb3d-c7a64014b65b",
        "colab": {
          "base_uri": "https://localhost:8080/",
          "height": 187
        }
      },
      "cell_type": "code",
      "source": [
        "import random as rd #呼叫random函數as rd進來\n",
        "A=0 #最小的index\n",
        "B=9 #最大的index\n",
        "nm=10 #取樣次數設定\n",
        "C=[0,1,2,3,4,5,6,7,8,9]\n",
        "\n",
        "\n",
        "for j in range(0,nm,1): # 迴圈跑10次\n",
        "    \n",
        "    Chop=rd.randint(A,B) # 隨機取0到B其中一個的位置\n",
        "    print(C[Chop]) # 印出選出位置的值\n",
        "    C[Chop]=C[B] #令C list選出位置的值=最後一個值\n",
        "    B-=1 #每跑一次，將最後的位置排除\n"
      ],
      "execution_count": 0,
      "outputs": [
        {
          "output_type": "stream",
          "text": [
            "5\n",
            "6\n",
            "3\n",
            "2\n",
            "1\n",
            "4\n",
            "0\n",
            "8\n",
            "7\n",
            "9\n"
          ],
          "name": "stdout"
        }
      ]
    }
  ]
}