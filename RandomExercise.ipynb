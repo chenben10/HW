{
  "nbformat": 4,
  "nbformat_minor": 0,
  "metadata": {
    "colab": {
      "name": "RandomExercise.ipynb",
      "version": "0.3.2",
      "provenance": [],
      "collapsed_sections": [],
      "include_colab_link": true
    },
    "kernelspec": {
      "name": "python3",
      "display_name": "Python 3"
    }
  },
  "cells": [
    {
      "cell_type": "markdown",
      "metadata": {
        "id": "view-in-github",
        "colab_type": "text"
      },
      "source": [
        "<a href=\"https://colab.research.google.com/github/chenben10/HW/blob/machine-learning-HW/RandomExercise.ipynb\" target=\"_parent\"><img src=\"https://colab.research.google.com/assets/colab-badge.svg\" alt=\"Open In Colab\"/></a>"
      ]
    },
    {
      "metadata": {
        "id": "qsgKorVkNVWh",
        "colab_type": "code",
        "outputId": "7bb38983-ec21-44ca-9503-b8cdad191be5",
        "colab": {
          "base_uri": "https://localhost:8080/",
          "height": 34
        }
      },
      "cell_type": "code",
      "source": [
        "\n",
        "import random #呼叫random函數進來\n",
        " \n",
        "resultList=[];#設定一個空白矩陣(list)用來存放產生的結果\n",
        "A=0; #最小的隨機數\n",
        "B=9 #最大的隨機數\n",
        "COUNT=10 #取樣次數設定\n",
        "group1=range(A,B+1) #設定隨機抽樣母體整數範圍\n",
        "resultList=random.sample(group1,COUNT); # sample(x,y)函数的作用是從矩陣x中，随機選y个不重複的元素。\n",
        "print(resultList)\n"
      ],
      "execution_count": 20,
      "outputs": [
        {
          "output_type": "stream",
          "text": [
            "[5, 2, 9, 1, 7, 4, 3, 6, 0, 8]\n"
          ],
          "name": "stdout"
        }
      ]
    }
  ]
}