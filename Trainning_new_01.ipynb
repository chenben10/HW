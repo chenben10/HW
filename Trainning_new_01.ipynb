{
 "cells": [
  {
   "cell_type": "code",
   "execution_count": 7,
   "metadata": {},
   "outputs": [
    {
     "name": "stdout",
     "output_type": "stream",
     "text": [
      "Epoch 1/10\n",
      "Found 182 images belonging to 1 classes.\n",
      "Found 182 images belonging to 1 classes.\n",
      "100/100 [==============================] - 446s 4s/step - loss: 0.2074 - acc: 0.9614\n",
      "\n",
      "Epoch 00001: loss improved from inf to 0.20738, saving model to unet_membrane.hdf5\n",
      "Epoch 2/10\n",
      "100/100 [==============================] - 448s 4s/step - loss: 0.1750 - acc: 0.9676\n",
      "\n",
      "Epoch 00002: loss improved from 0.20738 to 0.17501, saving model to unet_membrane.hdf5\n",
      "Epoch 3/10\n",
      "100/100 [==============================] - 441s 4s/step - loss: 0.1292 - acc: 0.9711\n",
      "\n",
      "Epoch 00003: loss improved from 0.17501 to 0.12923, saving model to unet_membrane.hdf5\n",
      "Epoch 4/10\n",
      "100/100 [==============================] - 435s 4s/step - loss: 0.1510 - acc: 0.9668\n",
      "\n",
      "Epoch 00004: loss did not improve from 0.12923\n",
      "Epoch 5/10\n",
      "100/100 [==============================] - 435s 4s/step - loss: 0.0969 - acc: 0.9696\n",
      "\n",
      "Epoch 00005: loss improved from 0.12923 to 0.09689, saving model to unet_membrane.hdf5\n",
      "Epoch 6/10\n",
      "100/100 [==============================] - 435s 4s/step - loss: 0.0864 - acc: 0.9728\n",
      "\n",
      "Epoch 00006: loss improved from 0.09689 to 0.08640, saving model to unet_membrane.hdf5\n",
      "Epoch 7/10\n",
      "100/100 [==============================] - 435s 4s/step - loss: 0.0762 - acc: 0.9691\n",
      "\n",
      "Epoch 00007: loss improved from 0.08640 to 0.07616, saving model to unet_membrane.hdf5\n",
      "Epoch 8/10\n",
      "100/100 [==============================] - 435s 4s/step - loss: 0.0781 - acc: 0.9753\n",
      "\n",
      "Epoch 00008: loss did not improve from 0.07616\n",
      "Epoch 9/10\n",
      "100/100 [==============================] - 435s 4s/step - loss: 0.0611 - acc: 0.9762\n",
      "\n",
      "Epoch 00009: loss improved from 0.07616 to 0.06110, saving model to unet_membrane.hdf5\n",
      "Epoch 10/10\n",
      "100/100 [==============================] - 435s 4s/step - loss: 0.0621 - acc: 0.9770\n",
      "\n",
      "Epoch 00010: loss did not improve from 0.06110\n"
     ]
    },
    {
     "data": {
      "text/plain": [
       "<keras.callbacks.History at 0x2314a14ada0>"
      ]
     },
     "execution_count": 7,
     "metadata": {},
     "output_type": "execute_result"
    }
   ],
   "source": [
    "from model import *\n",
    "from data import *\n",
    "\n",
    "#os.environ[\"CUDA_VISIBLE_DEVICES\"] = \"0\"\n",
    "\n",
    "\n",
    "data_gen_args = dict(rotation_range=0.2,\n",
    "                    width_shift_range=0.05,\n",
    "                    height_shift_range=0.05,\n",
    "                    shear_range=0.05,\n",
    "                    zoom_range=0.05,\n",
    "                    horizontal_flip=True,\n",
    "                    fill_mode='nearest')\n",
    "myGene = trainGenerator(2,'data/membrane/train','image','label',data_gen_args,save_to_dir = None)\n",
    "\n",
    "model = unet()\n",
    "model_checkpoint = ModelCheckpoint('unet_membrane.hdf5', monitor='loss',verbose=1, save_best_only=True)\n",
    "model.fit_generator(myGene,steps_per_epoch=100,epochs=10,callbacks=[model_checkpoint])"
   ]
  },
  {
   "cell_type": "code",
   "execution_count": 8,
   "metadata": {},
   "outputs": [
    {
     "name": "stdout",
     "output_type": "stream",
     "text": [
      "25/25 [==============================] - 22s 885ms/step\n"
     ]
    },
    {
     "name": "stderr",
     "output_type": "stream",
     "text": [
      "Lossy conversion from float32 to uint8. Range [0, 1]. Convert image to uint8 prior to saving to suppress this warning.\n",
      "Lossy conversion from float32 to uint8. Range [0, 1]. Convert image to uint8 prior to saving to suppress this warning.\n",
      "Lossy conversion from float32 to uint8. Range [0, 1]. Convert image to uint8 prior to saving to suppress this warning.\n",
      "Lossy conversion from float32 to uint8. Range [0, 1]. Convert image to uint8 prior to saving to suppress this warning.\n",
      "Lossy conversion from float32 to uint8. Range [0, 1]. Convert image to uint8 prior to saving to suppress this warning.\n",
      "Lossy conversion from float32 to uint8. Range [0, 1]. Convert image to uint8 prior to saving to suppress this warning.\n",
      "Lossy conversion from float32 to uint8. Range [0, 1]. Convert image to uint8 prior to saving to suppress this warning.\n",
      "Lossy conversion from float32 to uint8. Range [0, 1]. Convert image to uint8 prior to saving to suppress this warning.\n",
      "Lossy conversion from float32 to uint8. Range [0, 1]. Convert image to uint8 prior to saving to suppress this warning.\n",
      "Lossy conversion from float32 to uint8. Range [0, 1]. Convert image to uint8 prior to saving to suppress this warning.\n",
      "Lossy conversion from float32 to uint8. Range [0, 1]. Convert image to uint8 prior to saving to suppress this warning.\n",
      "Lossy conversion from float32 to uint8. Range [0, 1]. Convert image to uint8 prior to saving to suppress this warning.\n",
      "Lossy conversion from float32 to uint8. Range [0, 1]. Convert image to uint8 prior to saving to suppress this warning.\n",
      "Lossy conversion from float32 to uint8. Range [0, 1]. Convert image to uint8 prior to saving to suppress this warning.\n",
      "Lossy conversion from float32 to uint8. Range [0, 1]. Convert image to uint8 prior to saving to suppress this warning.\n",
      "Lossy conversion from float32 to uint8. Range [0, 1]. Convert image to uint8 prior to saving to suppress this warning.\n",
      "Lossy conversion from float32 to uint8. Range [0, 1]. Convert image to uint8 prior to saving to suppress this warning.\n",
      "Lossy conversion from float32 to uint8. Range [0, 1]. Convert image to uint8 prior to saving to suppress this warning.\n",
      "Lossy conversion from float32 to uint8. Range [0, 1]. Convert image to uint8 prior to saving to suppress this warning.\n",
      "Lossy conversion from float32 to uint8. Range [0, 1]. Convert image to uint8 prior to saving to suppress this warning.\n",
      "Lossy conversion from float32 to uint8. Range [0, 1]. Convert image to uint8 prior to saving to suppress this warning.\n",
      "Lossy conversion from float32 to uint8. Range [0, 1]. Convert image to uint8 prior to saving to suppress this warning.\n",
      "Lossy conversion from float32 to uint8. Range [0, 1]. Convert image to uint8 prior to saving to suppress this warning.\n",
      "Lossy conversion from float32 to uint8. Range [0, 1]. Convert image to uint8 prior to saving to suppress this warning.\n",
      "Lossy conversion from float32 to uint8. Range [0, 1]. Convert image to uint8 prior to saving to suppress this warning.\n"
     ]
    }
   ],
   "source": [
    "testGene = testGenerator(\"data/membrane/test\")\n",
    "results = model.predict_generator(testGene,25,verbose=1)\n",
    "saveResult(\"data/membrane/test\",results)"
   ]
  },
  {
   "cell_type": "code",
   "execution_count": null,
   "metadata": {},
   "outputs": [],
   "source": []
  }
 ],
 "metadata": {
  "kernelspec": {
   "display_name": "Python 3",
   "language": "python",
   "name": "python3"
  },
  "language_info": {
   "codemirror_mode": {
    "name": "ipython",
    "version": 3
   },
   "file_extension": ".py",
   "mimetype": "text/x-python",
   "name": "python",
   "nbconvert_exporter": "python",
   "pygments_lexer": "ipython3",
   "version": "3.7.3"
  }
 },
 "nbformat": 4,
 "nbformat_minor": 2
}
